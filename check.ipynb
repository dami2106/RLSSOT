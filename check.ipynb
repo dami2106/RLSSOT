{
 "cells": [
  {
   "cell_type": "markdown",
   "metadata": {},
   "source": [
    "Theres 917 actions in this demonstration  \n",
    "So each feature is a 512 long vector for each frame\n",
    "\n",
    "Each video has a feature (for each frame), and a groundtruth file that shows action at each step.   \n",
    "Mapping is a file that has a number - action mapping\n"
   ]
  },
  {
   "cell_type": "markdown",
   "metadata": {},
   "source": [
    "For Per : Feed in 1 data point, 1 ground truth and 1 mask. Mask is set to all true, CLS set to NONE  \n",
    "```python\n",
    "Calculating test metrics:\n",
    "Segments shape: torch.Size([1, 13])\n",
    "GT shape: torch.Size([1, 13])\n",
    "Mask shape: torch.Size([1, 13])\n",
    "\n",
    "Segments: tensor([[0, 0, 0, 0, 0, 1, 1, 1, 2, 2, 2, 2, 2]], device='cuda:0')\n",
    "GT: tensor([[1, 1, 1, 1, 1, 0, 0, 0, 2, 2, 2, 2, 2]], device='cuda:0')\n",
    "Mask: tensor([[True, True, True, True, True, True, True, True, True, True, True, True,\n",
    "         True]], device='cuda:0')\n",
    "\n",
    "CLS None\n",
    "```"
   ]
  },
  {
   "cell_type": "code",
   "execution_count": null,
   "metadata": {},
   "outputs": [],
   "source": [
    "from metrics import eval_mof, eval_f1, eval_miou, indep_eval_metrics, ClusteringMetrics\n",
    "import numpy as np\n",
    "import torch"
   ]
  },
  {
   "cell_type": "code",
   "execution_count": 32,
   "metadata": {},
   "outputs": [],
   "source": [
    "segs = [\n",
    "    [0, 0, 0, 1, 2, 2, 2],\n",
    "    [0, 0, 0, 0, 0, 1, 1, 2, 2, 2, 2, 2],\n",
    "    [0, 0, 1, 1, 2, 2, 2, 2],\n",
    "    [0, 0, 0, 1, 1, 1, 1, 2, 2, 2, 2],\n",
    "    [0, 0, 0, 0, 1, 1, 1, 2, 2, 2, 2, 2],\n",
    "    [0, 0, 1, 1, 2, 2, 2, 2],\n",
    "    [0, 1, 2, 2, 2],\n",
    "    [0, 0, 0, 1, 1, 1, 1, 1, 2, 2, 2, 2],\n",
    "    [0, 0, 0, 1, 1, 2, 2, 2],\n",
    "    [0, 0, 0, 0, 0, 0, 2, 2, 2, 2, 2],\n",
    "    [0, 0, 0, 1, 1, 1, 1, 2, 2, 2, 2],\n",
    "    [0, 0, 1, 1, 1, 2, 2, 2, 2],\n",
    "    [0, 1, 1, 2, 2, 2, 2, 2],\n",
    "    [0, 0, 0, 1, 1, 1, 1, 1, 2, 2, 2],\n",
    "    [0, 0, 0, 0, 0, 0, 1, 2, 2, 2, 2, 2, 2],\n",
    "    [0, 0, 0, 0, 1, 1, 2, 2, 2, 2, 2]\n",
    "]\n",
    "\n",
    "segs = [torch.tensor(seg) for seg in segs]\n",
    "np_segs = [seg.numpy() for seg in segs]"
   ]
  },
  {
   "cell_type": "code",
   "execution_count": 33,
   "metadata": {},
   "outputs": [
    {
     "data": {
      "text/plain": [
       "16"
      ]
     },
     "execution_count": 33,
     "metadata": {},
     "output_type": "execute_result"
    }
   ],
   "source": [
    "gt = [\n",
    "    [0, 0, 0, 0, 1, 1, 2],\n",
    "    [2, 2, 2, 1, 1, 1, 1, 0, 0, 0, 0, 0],\n",
    "    [2, 2, 0, 0, 0, 0, 1, 1],\n",
    "    [0, 0, 0, 0, 2, 2, 2, 1, 1, 1, 1],\n",
    "    [0, 0, 0, 0, 1, 1, 2, 2, 2, 2, 2, 2],\n",
    "    [1, 1, 0, 0, 0, 2, 2, 2],\n",
    "    [0, 1, 2, 2, 2],\n",
    "    [0, 0, 0, 0, 0, 1, 1, 1, 2, 2, 2, 2],\n",
    "    [0, 0, 0, 2, 2, 2, 2, 1],\n",
    "    [2, 2, 2, 2, 2, 2, 0, 0, 0, 1, 1],\n",
    "    [0, 0, 0, 0, 1, 1, 2, 2, 2, 2, 2],\n",
    "    [1, 1, 1, 1, 2, 0, 0, 0, 0],\n",
    "    [0, 0, 0, 1, 2, 2, 2, 2],\n",
    "    [0, 0, 0, 1, 1, 1, 1, 1, 2, 2, 2],\n",
    "    [1, 1, 1, 1, 1, 1, 1, 1, 2, 2, 0, 0, 0],\n",
    "    [2, 2, 2, 2, 2, 2, 0, 1, 1, 1, 1]\n",
    "]\n",
    "\n",
    "gt = [torch.tensor(x) for x in gt]\n",
    "np_gt = [x.numpy() for x in gt]\n",
    "mask = [torch.ones_like(seg).bool() for seg in segs]\n",
    "\n",
    "len(gt)"
   ]
  },
  {
   "cell_type": "code",
   "execution_count": null,
   "metadata": {},
   "outputs": [
    {
     "name": "stdout",
     "output_type": "stream",
     "text": [
      "{'mof': 0.8228394869019868, 'f1': 0.7399999949753333, 'miou': 0.6798611111111111}\n"
     ]
    }
   ],
   "source": [
    "# PER METRIC\n",
    "results = indep_eval_metrics(\n",
    "    segs, \n",
    "    gt,\n",
    "    mask,\n",
    "    metrics=['mof', 'f1', 'miou']\n",
    ")\n",
    "\n",
    "print(results)"
   ]
  },
  {
   "cell_type": "code",
   "execution_count": null,
   "metadata": {},
   "outputs": [
    {
     "name": "stdout",
     "output_type": "stream",
     "text": [
      "MOF Score: 0.465\n",
      "F1 Score: 0.457\n",
      "mIoU Score: 0.299\n"
     ]
    }
   ],
   "source": [
    "# FULL METRIC\n",
    "mof_score, _ = eval_mof(\n",
    "    np.concatenate(np_segs), \n",
    "    np.concatenate(np_gt),\n",
    "    n_videos=len(segs)\n",
    ")\n",
    "\n",
    "f1_score, _ = eval_f1(\n",
    "    np.concatenate(np_segs), \n",
    "    np.concatenate(np_gt),\n",
    "    n_videos=len(segs)\n",
    ")\n",
    "\n",
    "miou_score, _ = eval_miou(\n",
    "    np.concatenate(np_segs), \n",
    "    np.concatenate(np_gt),\n",
    "    n_videos=len(segs)\n",
    ")\n",
    "\n",
    "print(f\"MOF Score: {mof_score:.3f}\")\n",
    "print(f\"F1 Score: {f1_score:.3f}\")\n",
    "print(f\"mIoU Score: {miou_score:.3f}\")"
   ]
  },
  {
   "cell_type": "code",
   "execution_count": null,
   "metadata": {},
   "outputs": [],
   "source": []
  },
  {
   "cell_type": "code",
   "execution_count": 1,
   "metadata": {},
   "outputs": [
    {
     "data": {
      "image/png": "[encoded data removed]",
      "text/plain": [
       "<Figure size 1000x200 with 1 Axes>"
      ]
     },
     "metadata": {},
     "output_type": "display_data"
    }
   ],
   "source": [
    "import matplotlib.pyplot as plt\n",
    "import numpy as np\n",
    "tensor1 = np.array([2, 2, 2, 2, 2, 0, 0, 0, 0, 0, 1, 1])\n",
    "tensor2 = np.array([0, 0, 0, 0, 0, 2, 2, 2, 2, 2, 1, 1])\n",
    "\n",
    "# Generate a figure to visualize the tensors\n",
    "fig, ax = plt.subplots(figsize=(10, 2))\n",
    "\n",
    "# Define the colormap and colors for each unique value\n",
    "colors = {0: 'blue', 1: 'green', 2: 'red'}\n",
    "\n",
    "# Plot the tensors as colored segments\n",
    "for i, (tensor, offset) in enumerate(zip([tensor1, tensor2], [0, 1])):\n",
    "    for start in range(len(tensor)):\n",
    "        if start == 0 or tensor[start] != tensor[start - 1]:\n",
    "            end = start + 1\n",
    "            while end < len(tensor) and tensor[end] == tensor[start]:\n",
    "                end += 1\n",
    "            ax.plot([start, end - 1], [offset, offset], lw=6, color=colors[tensor[start]])\n",
    "\n",
    "# Set limits, labels, and grid\n",
    "ax.set_xlim(-0.5, max(len(tensor1), len(tensor2)) - 0.5)\n",
    "ax.set_ylim(-0.5, 1.5)\n",
    "ax.set_yticks([0, 1])\n",
    "ax.set_yticklabels(['Tensor 1', 'Tensor 2'])\n",
    "ax.set_xlabel('Index')\n",
    "ax.set_title('Segmented Tensor Visualization')\n",
    "\n",
    "# Show the figure\n",
    "plt.tight_layout()\n",
    "plt.show()"
   ]
  }
 ],
 "metadata": {
  "kernelspec": {
   "display_name": "SOTA",
   "language": "python",
   "name": "python3"
  },
  "language_info": {
   "codemirror_mode": {
    "name": "ipython",
    "version": 3
   },
   "file_extension": ".py",
   "mimetype": "text/x-python",
   "name": "python",
   "nbconvert_exporter": "python",
   "pygments_lexer": "ipython3",
   "version": "3.10.15"
  }
 },
 "nbformat": 4,
 "nbformat_minor": 2
}
