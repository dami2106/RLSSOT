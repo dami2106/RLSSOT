{
 "cells": [
  {
   "cell_type": "code",
   "execution_count": null,
   "metadata": {},
   "outputs": [],
   "source": [
    "!conda install torch fisher "
   ]
  },
  {
   "cell_type": "code",
   "execution_count": null,
   "metadata": {},
   "outputs": [],
   "source": [
    "import numpy as np\n",
    "import torch\n",
    "from fisher.gmm import GMM\n",
    "from fisher.fv import FisherVector\n",
    "import cv2\n",
    "import numpy as np"
   ]
  },
  {
   "cell_type": "markdown",
   "metadata": {},
   "source": [
    "Theres 917 actions in this demonstration  \n",
    "So each feature is a 512 long vector for each frame\n",
    "\n",
    "Each video has a feature (for each frame), and a groundtruth file that shows action at each step.   \n",
    "Mapping is a file that has a number - action mapping\n"
   ]
  },
  {
   "cell_type": "code",
   "execution_count": null,
   "metadata": {},
   "outputs": [],
   "source": [
    "\n",
    "\n",
    "def extract_sift_features(image_path):\n",
    "    \"\"\"Extract SIFT descriptors from an image.\"\"\"\n",
    "    # Load the image\n",
    "    image = cv2.imread(image_path, cv2.IMREAD_GRAYSCALE)\n",
    "    if image is None:\n",
    "        raise FileNotFoundError(f\"Image not found: {image_path}\")\n",
    "    \n",
    "    # Initialize SIFT\n",
    "    sift = cv2.SIFT_create()\n",
    "    \n",
    "    # Detect and compute SIFT keypoints and descriptors\n",
    "    _, descriptors = sift.detectAndCompute(image, None)\n",
    "    \n",
    "    return descriptors\n",
    "\n",
    "def train_gmm(features, num_clusters=64, max_iters=100):\n",
    "    \"\"\"Train a GMM using the fisher package.\"\"\"\n",
    "    # Convert to PyTorch tensor\n",
    "    features = torch.tensor(features, dtype=torch.float32)\n",
    "    \n",
    "    # Train GMM\n",
    "    gmm = GMM(k=num_clusters, n_iter=max_iters)\n",
    "    gmm.fit(features)\n",
    "    return gmm\n",
    "\n",
    "def compute_fisher_vector(features, gmm):\n",
    "    \"\"\"Compute the Fisher vector of the features given a GMM.\"\"\"\n",
    "    # Convert features to PyTorch tensor\n",
    "    features = torch.tensor(features, dtype=torch.float32)\n",
    "    \n",
    "    # Initialize Fisher Vector encoder\n",
    "    fv = FisherVector(gmm)\n",
    "    \n",
    "    # Compute Fisher vector\n",
    "    fisher_vector = fv(features)\n",
    "    return fisher_vector.cpu().numpy()\n",
    "\n",
    "# Example usage\n",
    "if __name__ == \"__main__\":\n",
    "    # Path to the image\n",
    "    image_path = \"example.jpg\"\n",
    "    \n",
    "    # Step 1: Extract SIFT features\n",
    "    descriptors = extract_sift_features(image_path)\n",
    "    if descriptors is None or len(descriptors) == 0:\n",
    "        raise ValueError(\"No descriptors found in the image.\")\n",
    "    \n",
    "    # Step 2: Train GMM (using descriptors from one or multiple images)\n",
    "    gmm = train_gmm(descriptors, num_clusters=64)\n",
    "    \n",
    "    # Step 3: Compute Fisher vector\n",
    "    fv = compute_fisher_vector(descriptors, gmm)\n",
    "    \n",
    "    print(\"Fisher Vector:\", fv)\n",
    "    print(\"Fisher Vector Dimension:\", fv.shape)\n"
   ]
  }
 ],
 "metadata": {
  "kernelspec": {
   "display_name": "scraper",
   "language": "python",
   "name": "python3"
  },
  "language_info": {
   "codemirror_mode": {
    "name": "ipython",
    "version": 3
   },
   "file_extension": ".py",
   "mimetype": "text/x-python",
   "name": "python",
   "nbconvert_exporter": "python",
   "pygments_lexer": "ipython3",
   "version": "undefined.undefined.undefined"
  }
 },
 "nbformat": 4,
 "nbformat_minor": 2
}
