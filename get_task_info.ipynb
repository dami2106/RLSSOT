{
 "cells": [
  {
   "cell_type": "code",
   "execution_count": 1,
   "id": "8d9464c8",
   "metadata": {},
   "outputs": [],
   "source": [
    "import numpy as np\n",
    "from glob import glob\n",
    "import os"
   ]
  },
  {
   "cell_type": "code",
   "execution_count": 3,
   "id": "2ce8c854",
   "metadata": {},
   "outputs": [
    {
     "data": {
      "text/plain": [
       "(27, 317)"
      ]
     },
     "execution_count": 3,
     "metadata": {},
     "output_type": "execute_result"
    }
   ],
   "source": [
    "test_data = np.load(\"Traces/mixed_static/mixed_static_pixels/pca_features_with_actions/craftax_0.npy\")\n",
    "test_data.shape"
   ]
  },
  {
   "cell_type": "code",
   "execution_count": 8,
   "id": "eed9261a",
   "metadata": {},
   "outputs": [],
   "source": [
    "pixels = \"Traces/mixed_static/mixed_static_pixels/groundTruth/\"\n",
    "pixels_big = \"Traces/mixed_static/mixed_static_pixels_big/groundTruth/\"\n",
    "symbolic = \"Traces/mixed_static/mixed_static_symbolic/groundTruth/\"\n",
    "symbolic_big = \"Traces/mixed_static/mixed_static_symbolic_big/groundTruth/\""
   ]
  },
  {
   "cell_type": "code",
   "execution_count": 9,
   "id": "0ec20190",
   "metadata": {},
   "outputs": [],
   "source": [
    "def get_files(path):\n",
    "    files = glob(path + \"*\")\n",
    "    files = [f for f in files if os.path.isfile(f)]\n",
    "    return files"
   ]
  },
  {
   "cell_type": "code",
   "execution_count": 11,
   "id": "ee1d83a6",
   "metadata": {},
   "outputs": [],
   "source": [
    "pixels_files = get_files(pixels)\n",
    "symbolic_files = get_files(symbolic)\n",
    "pixels_big_files = get_files(pixels_big)\n",
    "symbolic_big_files = get_files(symbolic_big)\n"
   ]
  },
  {
   "cell_type": "code",
   "execution_count": 12,
   "id": "98ad78db",
   "metadata": {},
   "outputs": [],
   "source": [
    "skills = {\n",
    "    'pixels': set(),\n",
    "    'symbolic': set(),\n",
    "    'pixels_big': set(),\n",
    "    'symbolic_big': set()\n",
    "}"
   ]
  },
  {
   "cell_type": "code",
   "execution_count": 17,
   "id": "240b0896",
   "metadata": {},
   "outputs": [
    {
     "data": {
      "text/plain": [
       "{'pixels': {'stone', 'stone_sword', 'table', 'wood', 'wooden_pickaxe'},\n",
       " 'symbolic': {'stone', 'stone_sword', 'table', 'wood', 'wooden_pickaxe'},\n",
       " 'pixels_big': {'stone', 'stone_sword', 'table', 'wood', 'wooden_pickaxe'},\n",
       " 'symbolic_big': {'stone', 'stone_sword', 'table', 'wood', 'wooden_pickaxe'}}"
      ]
     },
     "execution_count": 17,
     "metadata": {},
     "output_type": "execute_result"
    }
   ],
   "source": [
    "for file in pixels_files:\n",
    "    with open(file, 'r') as f:\n",
    "        lines = f.readlines()\n",
    "        lines = [line.rstrip() for line in lines]\n",
    "        for skill in lines:\n",
    "            if skill != \"\":\n",
    "                skills['pixels'].add(skill)\n",
    "\n",
    "for file in symbolic_files:\n",
    "    with open(file, 'r') as f:\n",
    "        lines = f.readlines()\n",
    "        lines = [line.rstrip() for line in lines]\n",
    "        for skill in lines:\n",
    "            if skill != \"\":\n",
    "                skills['symbolic'].add(skill)\n",
    "\n",
    "\n",
    "for file in pixels_big_files:\n",
    "    with open(file, 'r') as f:\n",
    "        lines = f.readlines()\n",
    "        lines = [line.rstrip() for line in lines]\n",
    "        for skill in lines:\n",
    "            if skill != \"\":\n",
    "                skills['pixels_big'].add(skill)\n",
    "\n",
    "for file in symbolic_big_files:\n",
    "    with open(file, 'r') as f:\n",
    "        lines = f.readlines()\n",
    "        lines = [line.rstrip() for line in lines]\n",
    "        for skill in lines:\n",
    "            if skill != \"\":\n",
    "                skills['symbolic_big'].add(skill)\n",
    "\n",
    "\n",
    "skills\n",
    "    "
   ]
  }
 ],
 "metadata": {
  "kernelspec": {
   "display_name": "SOTA",
   "language": "python",
   "name": "python3"
  },
  "language_info": {
   "codemirror_mode": {
    "name": "ipython",
    "version": 3
   },
   "file_extension": ".py",
   "mimetype": "text/x-python",
   "name": "python",
   "nbconvert_exporter": "python",
   "pygments_lexer": "ipython3",
   "version": "3.10.15"
  }
 },
 "nbformat": 4,
 "nbformat_minor": 5
}
