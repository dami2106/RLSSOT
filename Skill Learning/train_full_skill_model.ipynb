{
 "cells": [
  {
   "cell_type": "code",
   "execution_count": null,
   "id": "1c5b6706",
   "metadata": {},
   "outputs": [],
   "source": [
    "import os\n",
    "import numpy as np\n",
    "from single_class_svm import create_svm_model, create_svm_model_robust, predict_across_skills"
   ]
  },
  {
   "cell_type": "code",
   "execution_count": null,
   "id": "b09655a5",
   "metadata": {},
   "outputs": [],
   "source": [
    "dir_ = '../Data/stone_pick_random_pixels_big'\n",
    "files = os.listdir(dir_ + '/groundTruth')"
   ]
  },
  {
   "cell_type": "code",
   "execution_count": null,
   "id": "09164840",
   "metadata": {},
   "outputs": [],
   "source": [
    "def get_unique_skills(files):\n",
    "    unique_skills = set()\n",
    "    for file in files:\n",
    "        with open(os.path.join(dir_ + '/groundTruth', file), 'r') as f:\n",
    "            lines = f.read().splitlines()\n",
    "        unique_skills.update(lines)\n",
    "    return unique_skills\n",
    "\n",
    "\n",
    "def get_start_end_states(skill, files):\n",
    "    skill_states = []\n",
    "    other_states = [] \n",
    "\n",
    "    for file in files:\n",
    "        with open(os.path.join(dir_ + '/groundTruth', file), 'r') as f:\n",
    "            lines = f.read().splitlines()\n",
    "\n",
    "        pca_feats = np.load(os.path.join(dir_ + '/pca_features', file + '.npy'))\n",
    "        n_frames = len(pca_feats)\n",
    "        # assert n_frames == len(lines), f\"Mismatch in {file}: {n_frames} feats vs {len(lines)} labels\"\n",
    "\n",
    "        # indices where this skill appears\n",
    "        skill_indices = [i for i, x in enumerate(lines) if x == skill]\n",
    "        if not skill_indices:\n",
    "            # if the skill never occurs, then *all* frames are \"other\"\n",
    "            other_states.extend(pca_feats.tolist())\n",
    "            continue\n",
    "\n",
    "        # collect start & end feature vectors\n",
    "        for s in skill_indices:\n",
    "            skill_states.append(pca_feats[s].tolist())\n",
    "\n",
    "        # everything else (exclude only starts and ends)\n",
    "        excluded = set(skill_indices)\n",
    "        for idx in range(n_frames):\n",
    "            if idx not in excluded:\n",
    "                other_states.append(pca_feats[idx].tolist())\n",
    "\n",
    "    return (\n",
    "        np.array(skill_states),\n",
    "        np.array(other_states),\n",
    "    )"
   ]
  },
  {
   "cell_type": "code",
   "execution_count": null,
   "id": "b03db387",
   "metadata": {},
   "outputs": [],
   "source": [
    "skills = get_unique_skills(files)\n",
    "skill_data = {}\n",
    "for skill in skills:\n",
    "    skill_states, other_states = get_start_end_states(skill, files)\n",
    "    skill_data[skill] = {\n",
    "        'skill_states': skill_states,\n",
    "        'other_states': other_states\n",
    "    }"
   ]
  },
  {
   "cell_type": "code",
   "execution_count": null,
   "id": "ccce57b2",
   "metadata": {},
   "outputs": [],
   "source": [
    "svm_models = {}\n",
    "\n",
    "for skill, data in skill_data.items():\n",
    "    skill_states = data['skill_states']\n",
    "    other_states = data['other_states']\n",
    "    combined_other = np.concatenate((skill_states, other_states), axis=0)\n",
    "\n",
    "    print(\"Start model for skill\", skill)\n",
    "    svm_models[skill] = create_svm_model_robust(skill_states, combined_other)\n",
    "    print(\"=\" * 60)"
   ]
  },
  {
   "cell_type": "code",
   "execution_count": null,
   "id": "f3b879dc",
   "metadata": {},
   "outputs": [],
   "source": [
    "for skill in skill_data: \n",
    "    #Test the start and end models, add up correct vs incorrect vs total \n",
    "    start_states = skill_data[skill]['start_states']\n",
    "    end_states = skill_data[skill]['end_states']\n",
    "\n",
    "    correct_start = 0 \n",
    "    correct_end = 0\n",
    "    total_start = 0\n",
    "    total_end = 0\n",
    "\n",
    "    for feat in start_states:\n",
    "        predictions = predict_across_skills(feat, svm_start_models)\n",
    "        if predictions['top_skill'] == skill:\n",
    "            correct_start += 1\n",
    "        total_start += 1\n",
    "\n",
    "    for feat in end_states:\n",
    "        predictions = predict_across_skills(feat, svm_end_models)\n",
    "        if predictions['top_skill'] == skill:\n",
    "            correct_end += 1\n",
    "        total_end += 1\n",
    "\n",
    "    print(f\"Skill: {skill}\")\n",
    "    print(f\"Start Model - Correct: {correct_start}, Total: {total_start}\")\n",
    "    print(f\"End Model - Correct: {correct_end}, Total: {total_end}\")\n",
    "    print(\"=\" * 60)"
   ]
  },
  {
   "cell_type": "markdown",
   "id": "847ed4f4",
   "metadata": {},
   "source": [
    "# TODO TOMORROW ADD BACK START AND END SKILLS TO EVALUATE THEM "
   ]
  }
 ],
 "metadata": {
  "kernelspec": {
   "display_name": "hisd",
   "language": "python",
   "name": "python3"
  },
  "language_info": {
   "codemirror_mode": {
    "name": "ipython",
    "version": 3
   },
   "file_extension": ".py",
   "mimetype": "text/x-python",
   "name": "python",
   "nbconvert_exporter": "python",
   "pygments_lexer": "ipython3",
   "version": "3.10.15"
  }
 },
 "nbformat": 4,
 "nbformat_minor": 5
}
