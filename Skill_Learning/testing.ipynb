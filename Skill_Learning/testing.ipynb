{
 "cells": [
  {
   "cell_type": "code",
   "execution_count": 1,
   "id": "20263845",
   "metadata": {},
   "outputs": [],
   "source": [
    "import os\n",
    "import numpy as np\n",
    "import argparse\n",
    "from sklearn.svm import OneClassSVM\n",
    "from sklearn.preprocessing import StandardScaler\n",
    "from sklearn.pipeline import make_pipeline\n",
    "from sklearn.model_selection import train_test_split\n",
    "from sklearn.metrics import precision_recall_fscore_support, classification_report\n",
    "from sklearn.metrics import confusion_matrix\n",
    "import joblib\n",
    "from skill_helpers import *"
   ]
  },
  {
   "cell_type": "code",
   "execution_count": 2,
   "id": "2239f3f2",
   "metadata": {},
   "outputs": [],
   "source": [
    "#Data/stone_pick_random_pixels_big/start_models\n",
    "dir_ = '../Data/stone_pick_random_pixels_big'\n",
    "start_models = os.listdir(dir_ + '/start_models')\n",
    "end_models = os.listdir(dir_ + '/end_models')"
   ]
  },
  {
   "cell_type": "code",
   "execution_count": 3,
   "id": "fcb7df2a",
   "metadata": {},
   "outputs": [],
   "source": [
    "#Load all the start models in\n",
    "start_model_clfs = {}\n",
    "for model_file in start_models:\n",
    "    model_path = os.path.join(dir_ + '/start_models', model_file)\n",
    "    clf = joblib.load(model_path)\n",
    "    start_model_clfs[model_file.replace('_best_model.joblib', '')] = clf\n",
    "\n",
    "end_model_clfs = {}\n",
    "for model_file in end_models:\n",
    "    model_path = os.path.join(dir_ + '/end_models', model_file)\n",
    "    clf = joblib.load(model_path)\n",
    "    end_model_clfs[model_file.replace('_best_model.joblib', '')] = clf"
   ]
  },
  {
   "cell_type": "code",
   "execution_count": 4,
   "id": "e9d8abac",
   "metadata": {},
   "outputs": [],
   "source": [
    "test_epispde = np.load('../Data/stone_pick_random_pixels_big/pca_features/craftax_0.npy')"
   ]
  },
  {
   "cell_type": "code",
   "execution_count": 5,
   "id": "16ee50d4",
   "metadata": {},
   "outputs": [
    {
     "data": {
      "text/plain": [
       "(37, 650)"
      ]
     },
     "execution_count": 5,
     "metadata": {},
     "output_type": "execute_result"
    }
   ],
   "source": [
    "test_epispde.shape"
   ]
  },
  {
   "cell_type": "code",
   "execution_count": 6,
   "id": "ce6ce238",
   "metadata": {},
   "outputs": [
    {
     "data": {
      "text/plain": [
       "('wood', array([0.04153693]))"
      ]
     },
     "execution_count": 6,
     "metadata": {},
     "output_type": "execute_result"
    }
   ],
   "source": [
    "choose_skill_given_state(test_epispde[0], start_model_clfs)"
   ]
  },
  {
   "cell_type": "code",
   "execution_count": 17,
   "id": "bb1eeda2",
   "metadata": {},
   "outputs": [
    {
     "name": "stdout",
     "output_type": "stream",
     "text": [
      "0 (False, 0.5799028216801716)\n",
      "1 (False, 0.5932514614799871)\n",
      "2 (False, 1.7677236931082465)\n",
      "3 (False, 0.7327343593862548)\n",
      "4 (True, 2.7356299477322015)\n",
      "5 (False, 2.3717406279444777)\n",
      "6 (False, 1.9210197666248412)\n",
      "7 (False, 2.040881091664538)\n",
      "8 (True, 2.7729304993961517)\n",
      "9 (False, 2.0148679905676126)\n"
     ]
    }
   ],
   "source": [
    "for i in range(10):\n",
    "    print(i, check_if_end_skill(test_epispde[i], end_model_clfs['wood'], threshold=2.6))"
   ]
  },
  {
   "cell_type": "code",
   "execution_count": 21,
   "id": "529661c3",
   "metadata": {},
   "outputs": [
    {
     "data": {
      "text/plain": [
       "('wood_pickaxe', array([0.92052578]))"
      ]
     },
     "execution_count": 21,
     "metadata": {},
     "output_type": "execute_result"
    }
   ],
   "source": [
    "choose_skill_given_state(test_epispde[8], start_model_clfs)"
   ]
  }
 ],
 "metadata": {
  "kernelspec": {
   "display_name": "hisd",
   "language": "python",
   "name": "python3"
  },
  "language_info": {
   "codemirror_mode": {
    "name": "ipython",
    "version": 3
   },
   "file_extension": ".py",
   "mimetype": "text/x-python",
   "name": "python",
   "nbconvert_exporter": "python",
   "pygments_lexer": "ipython3",
   "version": "3.10.15"
  }
 },
 "nbformat": 4,
 "nbformat_minor": 5
}
